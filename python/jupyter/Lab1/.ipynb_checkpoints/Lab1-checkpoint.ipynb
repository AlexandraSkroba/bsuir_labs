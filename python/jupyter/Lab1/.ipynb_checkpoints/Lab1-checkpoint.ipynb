{
 "cells": [
  {
   "cell_type": "markdown",
   "id": "1b013688-4ac6-45b5-8348-2f3fc1a93161",
   "metadata": {},
   "source": [
    "<h3>Лабораторная работа 1. Случайные события и их имитация</h3>"
   ]
  },
  {
   "cell_type": "code",
   "execution_count": 1,
   "id": "bf6cdea0-72e1-4dc1-956b-c0cfc38c164c",
   "metadata": {},
   "outputs": [],
   "source": [
    "import matplotlib.pyplot as plt\n",
    "import numpy as np"
   ]
  },
  {
   "cell_type": "markdown",
   "id": "bc711ffd-3520-4ea0-abd0-21c16ff18a6f",
   "metadata": {},
   "source": [
    "Линейный конгруэнтный генератор.\n",
    "Основан на рекуррентной формуле $X_{n+1} = (a \\cdot X_n + c)\\mod m$\n"
   ]
  },
  {
   "cell_type": "code",
   "execution_count": 2,
   "id": "aadf9ebb-518f-481b-b4d8-3bbc9bf7919a",
   "metadata": {},
   "outputs": [],
   "source": [
    "# Генератор псевдослучайных чисел\n",
    "class LCG:\n",
    "    def __init__(self, seed, a=1664525, c=1013904223, m=2**32):\n",
    "        self.seed = seed  # Начальное значение\n",
    "        self.a = a        # Множитель\n",
    "        self.c = c        # Приращение\n",
    "        self.m = m        # Модуль\n",
    "        self.current = seed \n",
    "\n",
    "    def random(self):\n",
    "        self.current = (self.a * self.current + self.c) % self.m\n",
    "        return self.current / self.m"
   ]
  },
  {
   "cell_type": "markdown",
   "id": "5f4a5e8c-3479-4b88-80cf-a9c94a3636d5",
   "metadata": {},
   "source": [
    "<h4>Задание 1. Имитация простого случайного события</h4>"
   ]
  },
  {
   "cell_type": "markdown",
   "id": "d498fc94-5d85-4b04-ba9a-3a6a4d662bb7",
   "metadata": {},
   "source": [
    "Вводим начальное значение и вероятность простого случайного события"
   ]
  },
  {
   "cell_type": "code",
   "execution_count": 3,
   "id": "39c188fa-8733-4113-9800-ed4443065e2c",
   "metadata": {},
   "outputs": [],
   "source": [
    "def input_seed(): # функция ввода начального значения\n",
    "    seed_input = input(\"Введите начальное значение (seed) или нажмите Enter для значения по умолчанию (33): \")\n",
    "    \n",
    "    if seed_input == \"\":\n",
    "        seed = 33\n",
    "    else:\n",
    "        seed = int(seed_input)\n",
    "    return seed\n",
    "\n",
    "def input_probability(): # функция ввода вероятности\n",
    "    while True:\n",
    "        try:\n",
    "            probability = float(input(\"Введите вероятность (от 0 до 1): \"))\n",
    "            if 0 <= probability <= 1:\n",
    "                break\n",
    "            else:\n",
    "                print(\"Ошибка: вероятность должна быть значением от 0 до 1. Попробуйте снова.\")\n",
    "        except ValueError:\n",
    "            print(\"Ошибка: введите число. Попробуйте снова.\")\n",
    "    return probability\n",
    "\n",
    "def input_events_count(): # функция ввода количества событий\n",
    "    while True:\n",
    "        try:\n",
    "            events_count = int(input(\"Введите количество событий: \"))\n",
    "            if 1 <= events_count:\n",
    "                break\n",
    "            else:\n",
    "                print(\"Ошибка: количество событий не может быть отрицательным. Попробуйте снова.\")\n",
    "        except ValueError:\n",
    "            print(\"Ошибка: введите число. Попробуйте снова.\")\n",
    "    return events_count"
   ]
  },
  {
   "cell_type": "code",
   "execution_count": 4,
   "id": "1eafdd5e-8204-46cf-bd15-b1ded7ee9e38",
   "metadata": {},
   "outputs": [
    {
     "name": "stdin",
     "output_type": "stream",
     "text": [
      "Введите начальное значение (seed) или нажмите Enter для значения по умолчанию (33):  \n",
      "Введите вероятность (от 0 до 1):  1\n"
     ]
    },
    {
     "name": "stdout",
     "output_type": "stream",
     "text": [
      "Эмпирическая вероятность: 1.0\n"
     ]
    }
   ],
   "source": [
    "lcg = LCG(seed=input_seed())\n",
    "probability = input_probability()\n",
    "values = 10**6\n",
    "\n",
    "# Произошло ли событие с данной вероятностью\n",
    "def simulate_event(probability):\n",
    "    return lcg.random() <= probability\n",
    "\n",
    "count_true = sum(1 for _ in range(values) if simulate_event(probability))\n",
    "count_false = values - count_true\n",
    "empirical_probability = count_true / values # доля случаев, когда событие произошло\n",
    "print(\"Эмпирическая вероятность:\", empirical_probability)"
   ]
  },
  {
   "cell_type": "code",
   "execution_count": 5,
   "id": "1b27d070-c91d-44be-900c-7b47fecbf10d",
   "metadata": {},
   "outputs": [
    {
     "data": {
      "image/png": "[encoded data removed]",
      "text/plain": [
       "<Figure size 400x400 with 1 Axes>"
      ]
     },
     "metadata": {},
     "output_type": "display_data"
    }
   ],
   "source": [
    "labels = ['True', 'False']\n",
    "percentages = [count_true / values, count_false / values]\n",
    "\n",
    "plt.figure(figsize=(4, 4))\n",
    "bars = plt.bar(labels, percentages, color=['lightblue', 'orange'])\n",
    "\n",
    "# Добавление значений над столбцами\n",
    "for bar in bars:\n",
    "    height = bar.get_height()\n",
    "    plt.text(bar.get_x() + bar.get_width() / 2.0, height, f'{height:.4f}%', \n",
    "             ha='center', va='bottom')\n",
    "\n",
    "plt.xlabel('Результат')\n",
    "plt.ylabel('Процент')\n",
    "plt.ylim(0, 1)\n",
    "plt.grid(axis='y', linestyle='--', alpha=0.5)\n",
    "plt.show()"
   ]
  },
  {
   "cell_type": "markdown",
   "id": "8a143806-42c0-4156-84b8-c44b0556d1ae",
   "metadata": {},
   "source": [
    "<h4>Задание 2. Имитация сложного события</h4>"
   ]
  },
  {
   "cell_type": "code",
   "execution_count": 6,
   "id": "e25e8579-48b1-46f0-a50f-83a93b9538b5",
   "metadata": {},
   "outputs": [
    {
     "name": "stdin",
     "output_type": "stream",
     "text": [
      "Введите количество событий:  1\n",
      "Введите вероятность (от 0 до 1):  1\n"
     ]
    },
    {
     "name": "stdout",
     "output_type": "stream",
     "text": [
      "[1.0]\n"
     ]
    }
   ],
   "source": [
    "k = input_events_count()\n",
    "probabilities = []\n",
    "\n",
    "# заполнение массива вероятностей\n",
    "for _ in range(k):   \n",
    "    probabilities.append(input_probability())\n",
    "\n",
    "print(probabilities)"
   ]
  },
  {
   "cell_type": "code",
   "execution_count": 7,
   "id": "717a78e6-6259-45ab-8675-dc439fff63cb",
   "metadata": {},
   "outputs": [
    {
     "name": "stdin",
     "output_type": "stream",
     "text": [
      "Введите начальное значение (seed) или нажмите Enter для значения по умолчанию (33):  1\n"
     ]
    }
   ],
   "source": [
    "lcg = LCG(seed=input_seed())"
   ]
  },
  {
   "cell_type": "code",
   "execution_count": 8,
   "id": "92ccf466-9eb8-46db-ab94-0234822186dd",
   "metadata": {},
   "outputs": [
    {
     "name": "stdout",
     "output_type": "stream",
     "text": [
      "[True]\n"
     ]
    }
   ],
   "source": [
    "def simulate_event(probabilities):\n",
    "    results = []\n",
    "    for i in range(len(probabilities)):\n",
    "        results.append(lcg.random() <= probabilities[i])\n",
    "    return results\n",
    "\n",
    "results=simulate_event(probabilities)\n",
    "print(results)"
   ]
  },
  {
   "cell_type": "code",
   "execution_count": 9,
   "id": "36db73b5-5eee-4f57-955b-25af8a13b22e",
   "metadata": {},
   "outputs": [
    {
     "data": {
      "image/png": "[encoded data removed]",
      "text/plain": [
       "<Figure size 500x400 with 1 Axes>"
      ]
     },
     "metadata": {},
     "output_type": "display_data"
    }
   ],
   "source": [
    "count = [{True: 0, False: 0} for _ in range(len(probabilities))]\n",
    "\n",
    "for i in range(values):\n",
    "    res = simulate_event(probabilities)\n",
    "    for j in range(len(res)):\n",
    "        count[j][res[j]] += 1\n",
    "\n",
    "empirical_probability = []\n",
    "for i in count:\n",
    "    empirical_probability.append(i[True] / (i[True] + i[False]))\n",
    "\n",
    "labels = [f'Event {i+1}' for i in range(len(empirical_probability))]    \n",
    "\n",
    "plt.figure(figsize=(5, 4))\n",
    "bars = plt.bar(labels, empirical_probability, color='lightblue')\n",
    "\n",
    "for bar in bars:\n",
    "    height = bar.get_height()\n",
    "    plt.text(bar.get_x() + bar.get_width() / 2.0, height, f'{height:.4f}', \n",
    "             ha='center', va='bottom')\n",
    "\n",
    "plt.xlabel('События')\n",
    "plt.ylabel('Эмпирическая вероятность')\n",
    "plt.ylim(0, 1)\n",
    "plt.grid(axis='y', linestyle='--', alpha=0.5)\n",
    "plt.show()"
   ]
  },
  {
   "cell_type": "markdown",
   "id": "e2c2260b-eea9-4b7b-b5d8-36e4eac30820",
   "metadata": {},
   "source": [
    "<h4>Задание 3. Имитация сложного события, состоящего из зависимых событий</h4>"
   ]
  },
  {
   "cell_type": "code",
   "execution_count": 10,
   "id": "c01b904f-e43f-43b1-b3bb-bb91690cd29c",
   "metadata": {},
   "outputs": [
    {
     "name": "stdin",
     "output_type": "stream",
     "text": [
      "Введите вероятность (от 0 до 1):  1\n"
     ]
    }
   ],
   "source": [
    "# вводим вероятность P(A)\n",
    "p_a = input_probability()"
   ]
  },
  {
   "cell_type": "code",
   "execution_count": 11,
   "id": "ee0ff8dc-a364-49be-898a-e2b04bbef278",
   "metadata": {},
   "outputs": [
    {
     "name": "stdin",
     "output_type": "stream",
     "text": [
      "Введите вероятность (от 0 до 1):  1\n"
     ]
    }
   ],
   "source": [
    "# вводим вероятность P(B|A)\n",
    "p_b_a = input_probability()"
   ]
  },
  {
   "cell_type": "code",
   "execution_count": null,
   "id": "0fc63764-c31e-4e69-9bda-5c1d77d4fd75",
   "metadata": {},
   "outputs": [],
   "source": []
  }
 ],
 "metadata": {
  "kernelspec": {
   "display_name": "Python 3 (ipykernel)",
   "language": "python",
   "name": "python3"
  },
  "language_info": {
   "codemirror_mode": {
    "name": "ipython",
    "version": 3
   },
   "file_extension": ".py",
   "mimetype": "text/x-python",
   "name": "python",
   "nbconvert_exporter": "python",
   "pygments_lexer": "ipython3",
   "version": "3.12.4"
  }
 },
 "nbformat": 4,
 "nbformat_minor": 5
}
