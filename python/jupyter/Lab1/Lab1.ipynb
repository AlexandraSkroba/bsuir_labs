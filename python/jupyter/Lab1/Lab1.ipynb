{
 "cells": [
  {
   "cell_type": "markdown",
   "id": "1b013688-4ac6-45b5-8348-2f3fc1a93161",
   "metadata": {},
   "source": [
    "<h3>Лабораторная работа 1. Случайные события и их имитация</h3>"
   ]
  },
  {
   "cell_type": "markdown",
   "id": "2aaceae5-4983-4e3a-90a3-7f475f445d7b",
   "metadata": {},
   "source": [
    "<b>Случайное событие</b> — это явление, которое может произойти или не произойти при выполнении определенного эксперимента (испытания) в условиях неопределенности. Важная характеристика случайного события — невозможность заранее точно предсказать его исход, так как он подчиняется случайным факторам."
   ]
  },
  {
   "cell_type": "code",
   "execution_count": 1,
   "id": "bf6cdea0-72e1-4dc1-956b-c0cfc38c164c",
   "metadata": {},
   "outputs": [],
   "source": [
    "import matplotlib.pyplot as plt\n",
    "import numpy as np"
   ]
  },
  {
   "cell_type": "markdown",
   "id": "bc711ffd-3520-4ea0-abd0-21c16ff18a6f",
   "metadata": {},
   "source": [
    "Линейный конгруэнтный генератор.\n",
    "Основан на рекуррентной формуле $X_{n+1} = (a \\cdot X_n + c)\\mod m$\n"
   ]
  },
  {
   "cell_type": "code",
   "execution_count": 2,
   "id": "aadf9ebb-518f-481b-b4d8-3bbc9bf7919a",
   "metadata": {},
   "outputs": [],
   "source": [
    "# Генератор псевдослучайных чисел\n",
    "class LCG:\n",
    "    def __init__(self, seed, a=1664525, c=1013904223, m=2**32):\n",
    "        self.seed = seed  # Начальное значение\n",
    "        self.a = a        # Множитель\n",
    "        self.c = c        # Приращение\n",
    "        self.m = m        # Модуль\n",
    "        self.current = seed \n",
    "\n",
    "    def random(self):\n",
    "        self.current = (self.a * self.current + self.c) % self.m\n",
    "        return self.current / self.m"
   ]
  },
  {
   "cell_type": "code",
   "execution_count": 3,
   "id": "39c188fa-8733-4113-9800-ed4443065e2c",
   "metadata": {},
   "outputs": [],
   "source": [
    "def input_seed(): # функция ввода начального значения\n",
    "    seed_input = input(\"Введите начальное значение (seed) или нажмите Enter для значения по умолчанию (33): \")\n",
    "    \n",
    "    if seed_input == \"\":\n",
    "        seed = 33\n",
    "    else:\n",
    "        seed = int(seed_input)\n",
    "    return seed\n",
    "\n",
    "def input_probability(): # функция ввода вероятности\n",
    "    while True:\n",
    "        try:\n",
    "            probability = float(input(\"Введите вероятность (от 0 до 1): \"))\n",
    "            if 0 <= probability <= 1:\n",
    "                break\n",
    "            else:\n",
    "                print(\"Ошибка: вероятность должна быть значением от 0 до 1. Попробуйте снова.\")\n",
    "        except ValueError:\n",
    "            print(\"Ошибка: введите число. Попробуйте снова.\")\n",
    "    return probability\n",
    "\n",
    "def input_events_count(): # функция ввода количества событий\n",
    "    while True:\n",
    "        try:\n",
    "            events_count = int(input(\"Введите количество событий: \"))\n",
    "            if 1 <= events_count:\n",
    "                break\n",
    "            else:\n",
    "                print(\"Ошибка: количество событий не может быть отрицательным. Попробуйте снова.\")\n",
    "        except ValueError:\n",
    "            print(\"Ошибка: введите число. Попробуйте снова.\")\n",
    "    return events_count"
   ]
  },
  {
   "cell_type": "markdown",
   "id": "5f4a5e8c-3479-4b88-80cf-a9c94a3636d5",
   "metadata": {},
   "source": [
    "<h4>Задание 1. Имитация простого случайного события</h4>"
   ]
  },
  {
   "cell_type": "code",
   "execution_count": 13,
   "id": "1eafdd5e-8204-46cf-bd15-b1ded7ee9e38",
   "metadata": {},
   "outputs": [
    {
     "name": "stdin",
     "output_type": "stream",
     "text": [
      "Введите начальное значение (seed) или нажмите Enter для значения по умолчанию (33):  21\n",
      "Введите вероятность (от 0 до 1):  .7\n"
     ]
    },
    {
     "name": "stdout",
     "output_type": "stream",
     "text": [
      "True:  699646\n",
      "False:  300354\n"
     ]
    }
   ],
   "source": [
    "# Инициализация линейного конгруэнтного генератора с пользовательским seed\n",
    "lcg = LCG(seed=input_seed())\n",
    "\n",
    "# Ввод вероятности простого случайного события\n",
    "probability = input_probability()\n",
    "# Количество симуляций, которое мы будем выполнять (10^6 = 1 миллион)\n",
    "values = 10**6\n",
    "\n",
    "# Функция для симуляции одного события\n",
    "# Возвращает True, если случайное число меньше или равно вероятности события\n",
    "def simulate_event(probability):\n",
    "    return lcg.random() <= probability\n",
    "\n",
    "# Подсчет количества раз, когда событие произошло (True) из 1 миллиона симуляций\n",
    "count_true = sum(1 for _ in range(values) if simulate_event(probability))\n",
    "# Количество раз, когда событие не произошло (False)\n",
    "count_false = values - count_true\n",
    "\n",
    "print(\"True: \", count_true)\n",
    "print(\"False: \", count_false)"
   ]
  },
  {
   "cell_type": "markdown",
   "id": "8a143806-42c0-4156-84b8-c44b0556d1ae",
   "metadata": {},
   "source": [
    "<h4>Задание 2. Имитация сложного события</h4>"
   ]
  },
  {
   "cell_type": "code",
   "execution_count": 5,
   "id": "e25e8579-48b1-46f0-a50f-83a93b9538b5",
   "metadata": {},
   "outputs": [
    {
     "name": "stdin",
     "output_type": "stream",
     "text": [
      "Введите количество событий:  3\n",
      "Введите вероятность (от 0 до 1):  .1\n",
      "Введите вероятность (от 0 до 1):  .4\n",
      "Введите вероятность (от 0 до 1):  .2\n"
     ]
    },
    {
     "name": "stdout",
     "output_type": "stream",
     "text": [
      "[0.1, 0.4, 0.2]\n"
     ]
    }
   ],
   "source": [
    "k = input_events_count()\n",
    "probabilities = []\n",
    "\n",
    "# заполнение массива вероятностей\n",
    "for _ in range(k):   \n",
    "    probabilities.append(input_probability())\n",
    "\n",
    "print(probabilities)"
   ]
  },
  {
   "cell_type": "code",
   "execution_count": 6,
   "id": "717a78e6-6259-45ab-8675-dc439fff63cb",
   "metadata": {},
   "outputs": [
    {
     "name": "stdin",
     "output_type": "stream",
     "text": [
      "Введите начальное значение (seed) или нажмите Enter для значения по умолчанию (33):  \n"
     ]
    }
   ],
   "source": [
    "lcg = LCG(seed=input_seed())"
   ]
  },
  {
   "cell_type": "code",
   "execution_count": 7,
   "id": "92ccf466-9eb8-46db-ab94-0234822186dd",
   "metadata": {},
   "outputs": [
    {
     "name": "stdout",
     "output_type": "stream",
     "text": [
      "Событие 1: True=100073, False=899927\n",
      "Событие 2: True=400481, False=599519\n",
      "Событие 3: True=199750, False=800250\n"
     ]
    }
   ],
   "source": [
    "# Функция для генерации случайных событий по списку вероятностей\n",
    "def complex_event(probabilities):\n",
    "    result = []  # Список для хранения результата (True/False для каждого события)\n",
    "    # Для каждого события в списке вероятностей генерируем случайное число\n",
    "    for prob in probabilities:\n",
    "        # Если случайное число <= вероятности, добавляем True\n",
    "        result.append(lcg.random() <= prob)\n",
    "\n",
    "    return result\n",
    "\n",
    "# Функция для выполнения многократных симуляций и подсчета количества True/False для каждого события\n",
    "def task_2(method_name, probabilities):\n",
    "    # Создаем двумерный массив для подсчета: \n",
    "    # каждый элемент массива - это [количество True, количество False] для соответствующего события\n",
    "    arr = [[0 for _ in range(2)] for _ in range(len(probabilities))]\n",
    "    \n",
    "    # Проводим множество симуляций\n",
    "    for i in range(values):\n",
    "        arr_event_result = method_name(probabilities)  # Генерируем результат для текущей симуляции\n",
    "        \n",
    "        # Для каждого события в текущей симуляции проверяем результат (True или False)\n",
    "        for j in range(len(arr_event_result)):\n",
    "            if arr_event_result[j]:\n",
    "                arr[j][0] += 1  # Если событие произошло (True), увеличиваем счетчик True\n",
    "            else:\n",
    "                arr[j][1] += 1  # Если событие не произошло (False), увеличиваем счетчик False\n",
    "\n",
    "    # Выводим результат: для каждого события выводим, сколько раз произошло (True) и сколько раз не произошло (False)\n",
    "    for i in range(len(probabilities)):\n",
    "        print(f\"Событие {i+1}: True={arr[i][0]}, False={arr[i][1]}\")\n",
    "\n",
    "# Вызов функции task_2 с использованием функции complex_event и переданным списком вероятностей\n",
    "task_2(complex_event, probabilities)"
   ]
  },
  {
   "cell_type": "markdown",
   "id": "e2c2260b-eea9-4b7b-b5d8-36e4eac30820",
   "metadata": {},
   "source": [
    "<h4>Задание 3. Имитация сложного события, состоящего из зависимых событий</h4>"
   ]
  },
  {
   "cell_type": "markdown",
   "id": "9b0b1741-1c37-445c-8f48-f64199fac5c6",
   "metadata": {},
   "source": [
    "<b>Сложное событие</b>: событие, состоящее из нескольких исходов"
   ]
  },
  {
   "cell_type": "markdown",
   "id": "761011f9-5d3f-4389-8b1f-da425c00a530",
   "metadata": {},
   "source": [
    "<b>Условная вероятность</b> — вероятность наступления события A при условии, что событие B произошло."
   ]
  },
  {
   "cell_type": "markdown",
   "id": "c8974d24-db92-45c9-b063-b837967eddca",
   "metadata": {},
   "source": [
    "<b>Кумулятивное значение (или накопленная вероятность)</b> в теории вероятностей — это сумма вероятностей всех событий, происходящих до текущего события включительно. Это позволяет нам работать с вероятностями в таких задачах, где требуется определить, какое из событий произошло, основываясь на случайном числе.\n",
    "<br>Когда у нас есть несколько возможных исходов событий, каждый с определенной вероятностью, кумулятивные значения помогают разделить диапазон случайных чисел на отрезки, каждый из которых соответствует одному из этих исходов. Таким образом, можно решить, какое событие произошло на основе случайного числа."
   ]
  },
  {
   "cell_type": "markdown",
   "id": "3acdbc6a-bd28-4447-9703-84ce9f80cdff",
   "metadata": {},
   "source": [
    "<b>Полная группа событий</b> означает, что одно из событий обязательно произойдет, и никакие два события не могут произойти одновременно."
   ]
  },
  {
   "cell_type": "code",
   "execution_count": 8,
   "id": "c01b904f-e43f-43b1-b3bb-bb91690cd29c",
   "metadata": {},
   "outputs": [
    {
     "name": "stdin",
     "output_type": "stream",
     "text": [
      "Введите вероятность (от 0 до 1):  .1\n",
      "Введите вероятность (от 0 до 1):  .3\n"
     ]
    }
   ],
   "source": [
    "# вводим вероятность P(A)\n",
    "p_a = input_probability()\n",
    "\n",
    "# вводим вероятность P(B|A)\n",
    "p_b_a = input_probability()"
   ]
  },
  {
   "cell_type": "code",
   "execution_count": 9,
   "id": "0fc63764-c31e-4e69-9bda-5c1d77d4fd75",
   "metadata": {},
   "outputs": [
    {
     "name": "stdout",
     "output_type": "stream",
     "text": [
      "[29982, 270140, 70501, 629377]\n"
     ]
    }
   ],
   "source": [
    "def dependent_event(p_a, p_b_a):\n",
    "    # Рассчитываем вероятности для 4 возможных исходов:\n",
    "    # P(AB) - событие A и B происходит\n",
    "    # P(~A B) - событие A не произошло, но B произошло\n",
    "    # P(A ~B) - событие A произошло, но B не произошло\n",
    "    # P(~A ~B) - событие ни A, ни B не произошло\n",
    "    p_ab = p_a * p_b_a  # Вероятность P(A и B) = P(A) * P(B|A)\n",
    "    p_not_ab = (1 - p_a) * p_b_a  # Вероятность P(~A и B) = P(~A) * P(B|A)\n",
    "    p_a_not_b = p_a * (1 - p_b_a)  # Вероятность P(A и ~B) = P(A) * P(~B|A)\n",
    "    p_not_a_not_b = (1 - p_a) * (1 - p_b_a)  # Вероятность P(~A и ~B) = P(~A) * P(~B|~A)\n",
    "    \n",
    "    # Суммируем вероятности для получения кумулятивных значений\n",
    "    # Это нужно для того, чтобы решить, какой результат будет на основе случайного числа\n",
    "    ranges = [p_ab, p_not_ab, p_a_not_b, p_not_a_not_b]\n",
    "    cumulative = [sum(ranges[:i+1]) for i in range(len(ranges))]\n",
    "    \n",
    "    # Генерируем случайное число и сравниваем его с кумулятивными вероятностями\n",
    "    r = lcg.random()\n",
    "    for i, threshold in enumerate(cumulative):\n",
    "        if r < threshold:\n",
    "            return i  # Возвращаем индекс события (0, 1, 2 или 3)\n",
    "\n",
    "result = [dependent_event(p_a, p_b_a) for _ in range(values)]\n",
    "counts = [result.count(i) for i in range(4)]\n",
    "# Выводим количество каждого результата (A и B, A и ~B, ~A и B, ~A и ~B)\n",
    "print(counts)"
   ]
  },
  {
   "cell_type": "markdown",
   "id": "ea2b583c-af9d-455e-9494-d9c7bc2a470c",
   "metadata": {},
   "source": [
    "<h4>Задание 4. Имитация событий, образующих полную группу</h4>"
   ]
  },
  {
   "cell_type": "code",
   "execution_count": 11,
   "id": "1ea97877-5921-4fa9-a25c-286dc3f8a24f",
   "metadata": {},
   "outputs": [
    {
     "name": "stdin",
     "output_type": "stream",
     "text": [
      "Введите количество событий:  3\n",
      "Введите вероятность (от 0 до 1):  .3\n",
      "Введите вероятность (от 0 до 1):  .5\n",
      "Введите вероятность (от 0 до 1):  .2\n"
     ]
    },
    {
     "name": "stdout",
     "output_type": "stream",
     "text": [
      "Введённые вероятности корректны: [0.3, 0.5, 0.2]\n"
     ]
    }
   ],
   "source": [
    "k = input_events_count()\n",
    "probabilities = []\n",
    "\n",
    "# Ввод вероятностей\n",
    "for _ in range(k):   \n",
    "    probabilities.append(input_probability())\n",
    "\n",
    "# Проверка, что сумма вероятностей равна 1\n",
    "if abs(sum(probabilities) - 1.0) > 1e-6:  # Допустимая погрешность для плавающей точки\n",
    "    print(\"Ошибка: сумма всех введённых вероятностей должна быть равна 1.\")\n",
    "else:\n",
    "    print(\"Введённые вероятности корректны:\", probabilities)"
   ]
  },
  {
   "cell_type": "code",
   "execution_count": 12,
   "id": "04ca1f53-a221-465a-83cb-e2e3a25f77cc",
   "metadata": {},
   "outputs": [
    {
     "name": "stdout",
     "output_type": "stream",
     "text": [
      "[300451, 499888, 199661]\n"
     ]
    }
   ],
   "source": [
    "# Функция для генерации события из полной группы событий\n",
    "def full_group_event(prob_list):\n",
    "    # Создаем список кумулятивных вероятностей (накопленных сумм)\n",
    "    # cumulative[i] = сумма вероятностей от prob_list[0] до prob_list[i]\n",
    "    cumulative = [sum(prob_list[:i+1]) for i in range(len(prob_list))]\n",
    "    \n",
    "    # Генерируем случайное число r\n",
    "    r = lcg.random()\n",
    "    \n",
    "    # Находим, какой элемент cumulative превышает случайное число r\n",
    "    # Этот элемент будет соответствовать событию\n",
    "    for i, threshold in enumerate(cumulative):\n",
    "        if r < threshold:  # Если r меньше порога, возвращаем индекс события\n",
    "            return i\n",
    "\n",
    "# Генерируем список индикаторов событий\n",
    "result = [full_group_event(probabilities) for _ in range(values)]\n",
    "\n",
    "# Подсчитываем количество каждого исхода (сколько раз каждое событие произошло)\n",
    "counts = [result.count(i) for i in range(len(probabilities))]\n",
    "\n",
    "# Выводим количество каждого события\n",
    "print(counts)\n"
   ]
  },
  {
   "cell_type": "code",
   "execution_count": null,
   "id": "1532fad0-ca6d-4b27-b7bd-29e14491e21a",
   "metadata": {},
   "outputs": [],
   "source": []
  }
 ],
 "metadata": {
  "kernelspec": {
   "display_name": "Python 3 (ipykernel)",
   "language": "python",
   "name": "python3"
  },
  "language_info": {
   "codemirror_mode": {
    "name": "ipython",
    "version": 3
   },
   "file_extension": ".py",
   "mimetype": "text/x-python",
   "name": "python",
   "nbconvert_exporter": "python",
   "pygments_lexer": "ipython3",
   "version": "3.12.4"
  }
 },
 "nbformat": 4,
 "nbformat_minor": 5
}
